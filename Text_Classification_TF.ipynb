{
  "nbformat": 4,
  "nbformat_minor": 0,
  "metadata": {
    "colab": {
      "name": "Text Classification TF.ipynb",
      "provenance": [],
      "collapsed_sections": []
    },
    "kernelspec": {
      "name": "python3",
      "display_name": "Python 3"
    }
  },
  "cells": [
    {
      "cell_type": "markdown",
      "metadata": {
        "id": "BuafEZGa6XTs",
        "colab_type": "text"
      },
      "source": [
        "This project provides a classfication of IMDB movie reviews using tensorflow and keras.\n"
      ]
    },
    {
      "cell_type": "code",
      "metadata": {
        "id": "SWafEIHnFpq1",
        "colab_type": "code",
        "colab": {}
      },
      "source": [
        "import tensorflow as tf\n",
        "from tensorflow import keras\n",
        "import tensorflow_datasets as tfds\n",
        "tfds.disable_progress_bar()\n",
        "import numpy as np\n"
      ],
      "execution_count": null,
      "outputs": []
    },
    {
      "cell_type": "code",
      "metadata": {
        "id": "VP8TCHNWFr3K",
        "colab_type": "code",
        "colab": {
          "base_uri": "https://localhost:8080/",
          "height": 122
        },
        "outputId": "6dea69b4-9d3d-458c-9fa5-0b5c27ed6953"
      },
      "source": [
        "(train_data,test_data),info = tfds.load('imdb_reviews/subwords8k', split=(tfds.Split.TRAIN,tfds.Split.TEST), as_supervised=True, with_info= True)"
      ],
      "execution_count": null,
      "outputs": [
        {
          "output_type": "stream",
          "text": [
            "\u001b[1mDownloading and preparing dataset imdb_reviews/subwords8k/1.0.0 (download: 80.23 MiB, generated: Unknown size, total: 80.23 MiB) to /root/tensorflow_datasets/imdb_reviews/subwords8k/1.0.0...\u001b[0m\n",
            "Shuffling and writing examples to /root/tensorflow_datasets/imdb_reviews/subwords8k/1.0.0.incompleteY288LT/imdb_reviews-train.tfrecord\n",
            "Shuffling and writing examples to /root/tensorflow_datasets/imdb_reviews/subwords8k/1.0.0.incompleteY288LT/imdb_reviews-test.tfrecord\n",
            "Shuffling and writing examples to /root/tensorflow_datasets/imdb_reviews/subwords8k/1.0.0.incompleteY288LT/imdb_reviews-unsupervised.tfrecord\n",
            "\u001b[1mDataset imdb_reviews downloaded and prepared to /root/tensorflow_datasets/imdb_reviews/subwords8k/1.0.0. Subsequent calls will reuse this data.\u001b[0m\n"
          ],
          "name": "stdout"
        }
      ]
    },
    {
      "cell_type": "code",
      "metadata": {
        "id": "WJctatk9FvvA",
        "colab_type": "code",
        "colab": {
          "base_uri": "https://localhost:8080/",
          "height": 34
        },
        "outputId": "5d479ace-f8fa-4d99-cb4f-e0233d372768"
      },
      "source": [
        "encoder = info.features[\"text\"].encoder\n",
        "encoder"
      ],
      "execution_count": null,
      "outputs": [
        {
          "output_type": "execute_result",
          "data": {
            "text/plain": [
              "<SubwordTextEncoder vocab_size=8185>"
            ]
          },
          "metadata": {
            "tags": []
          },
          "execution_count": 4
        }
      ]
    },
    {
      "cell_type": "markdown",
      "metadata": {
        "id": "IbnrOFPG6khd",
        "colab_type": "text"
      },
      "source": [
        "Sample text encoding and decoding "
      ]
    },
    {
      "cell_type": "code",
      "metadata": {
        "id": "hzLPgkgCxdHS",
        "colab_type": "code",
        "colab": {
          "base_uri": "https://localhost:8080/",
          "height": 34
        },
        "outputId": "c9098536-e209-4010-b613-521578ca58b4"
      },
      "source": [
        "sample_text = \"hello world\"\n",
        "encoded_text = encoder.encode(sample_text)\n",
        "decoded_text = encoder.decode(encoded_text)\n",
        "print(\"Original Text : {}, Encoded text : {} , Decoded text : {}\".format(sample_text, encoded_text, decoded_text))"
      ],
      "execution_count": null,
      "outputs": [
        {
          "output_type": "stream",
          "text": [
            "Original Text : hello world, Encoded text : [3618, 222, 562] , Decoded text : hello world\n"
          ],
          "name": "stdout"
        }
      ]
    },
    {
      "cell_type": "markdown",
      "metadata": {
        "id": "ctpFtTRr6rE_",
        "colab_type": "text"
      },
      "source": [
        "Code for each text is provided below"
      ]
    },
    {
      "cell_type": "code",
      "metadata": {
        "id": "7PHfLt66jsU-",
        "colab_type": "code",
        "colab": {
          "base_uri": "https://localhost:8080/",
          "height": 68
        },
        "outputId": "775a3e10-d3d3-414f-ad3a-dc4052f2f6d1"
      },
      "source": [
        "for ts in encoded_text:\n",
        "  print(\"{} : {}\".format(ts,encoder.decode([ts])))"
      ],
      "execution_count": null,
      "outputs": [
        {
          "output_type": "stream",
          "text": [
            "3618 : hell\n",
            "222 : o \n",
            "562 : world\n"
          ],
          "name": "stdout"
        }
      ]
    },
    {
      "cell_type": "markdown",
      "metadata": {
        "id": "8s8AqU5u7a-F",
        "colab_type": "text"
      },
      "source": [
        "The code for 1st movie review and the original review is provided below"
      ]
    },
    {
      "cell_type": "code",
      "metadata": {
        "id": "vuE3xQqLl8RM",
        "colab_type": "code",
        "colab": {
          "base_uri": "https://localhost:8080/",
          "height": 51
        },
        "outputId": "ef0da4a6-0b2f-4c66-f1fb-3744cdb6e0f6"
      },
      "source": [
        "for text,label in train_data.take(1):\n",
        "  print(\"Code : \",text[0:10].numpy(),\"\\nReview : \",label.numpy())"
      ],
      "execution_count": null,
      "outputs": [
        {
          "output_type": "stream",
          "text": [
            "Code :  [  62   18   41  604  927   65    3  644 7968   21] \n",
            "Review :  0\n"
          ],
          "name": "stdout"
        }
      ]
    },
    {
      "cell_type": "code",
      "metadata": {
        "id": "sg4OuVJ8CgKX",
        "colab_type": "code",
        "colab": {
          "base_uri": "https://localhost:8080/",
          "height": 103
        },
        "outputId": "5f97f135-a374-47c1-96bf-ed1355b4ccaa"
      },
      "source": [
        "encoder.decode(text)"
      ],
      "execution_count": null,
      "outputs": [
        {
          "output_type": "execute_result",
          "data": {
            "application/vnd.google.colaboratory.intrinsic": {
              "type": "string"
            },
            "text/plain": [
              "\"This was an absolutely terrible movie. Don't be lured in by Christopher Walken or Michael Ironside. Both are great actors, but this must simply be their worst role in history. Even their great acting could not redeem this movie's ridiculous storyline. This movie is an early nineties US propaganda piece. The most pathetic scenes were those when the Columbian rebels were making their cases for revolutions. Maria Conchita Alonso appeared phony, and her pseudo-love affair with Walken was nothing but a pathetic emotional plug in a movie that was devoid of any real meaning. I am disappointed that there are movies like this, ruining actor's like Christopher Walken's good name. I could barely sit through it.\""
            ]
          },
          "metadata": {
            "tags": []
          },
          "execution_count": 20
        }
      ]
    },
    {
      "cell_type": "markdown",
      "metadata": {
        "id": "9QamquXG7xEl",
        "colab_type": "text"
      },
      "source": [
        "Training and Test data is given in batches of BATCH_SIZE and only train data is shuffled."
      ]
    },
    {
      "cell_type": "code",
      "metadata": {
        "id": "52Cq4EIxDHJb",
        "colab_type": "code",
        "colab": {}
      },
      "source": [
        "BATCH_SIZE = 32\n",
        "BUFFER_SIZE = 1000\n",
        "train_batch = (train_data.shuffle(BUFFER_SIZE).padded_batch(BATCH_SIZE))\n",
        "test_batch = (test_data.padded_batch(BATCH_SIZE))"
      ],
      "execution_count": null,
      "outputs": []
    },
    {
      "cell_type": "code",
      "metadata": {
        "id": "gCrGhaLkDkqa",
        "colab_type": "code",
        "colab": {
          "base_uri": "https://localhost:8080/",
          "height": 289
        },
        "outputId": "6628c4f5-94e8-4fd7-ce81-a16e1633e3d6"
      },
      "source": [
        "for text,label in train_batch.take(2):\n",
        "  print(text.shape)\n",
        "  print(text[0:10].numpy(),label.numpy())"
      ],
      "execution_count": null,
      "outputs": [
        {
          "output_type": "stream",
          "text": [
            "(32, 875)\n",
            "[[ 661  905 1490 ...    0    0    0]\n",
            " [  11    4   33 ...    0    0    0]\n",
            " [  12  207 7968 ...    0    0    0]\n",
            " ...\n",
            " [  62    9    4 ...    0    0    0]\n",
            " [  12  393   14 ...    0    0    0]\n",
            " [  62   32   70 ...    0    0    0]] [0 1 1 0 0 0 0 1 0 1 1 1 0 1 1 1 1 1 1 1 1 1 1 1 1 0 0 1 1 1 0 0]\n",
            "(32, 1470)\n",
            "[[ 133 2412  396 ...    0    0    0]\n",
            " [  12 2135   14 ...    0    0    0]\n",
            " [ 866 6050    2 ...    0    0    0]\n",
            " ...\n",
            " [  19 2497   49 ...    0    0    0]\n",
            " [3568 5907 7961 ...    0    0    0]\n",
            " [  12  258  176 ...    0    0    0]] [1 0 1 1 1 0 0 1 1 0 0 1 1 1 1 0 1 0 0 1 1 0 1 1 0 1 1 0 0 1 0 0]\n"
          ],
          "name": "stdout"
        }
      ]
    },
    {
      "cell_type": "markdown",
      "metadata": {
        "id": "jri5YKkg8IX5",
        "colab_type": "text"
      },
      "source": [
        "Preparing the model with embedding, average pooling and 1 dense layer which gives the movie review."
      ]
    },
    {
      "cell_type": "code",
      "metadata": {
        "id": "Tf4E5oC_FuPJ",
        "colab_type": "code",
        "colab": {}
      },
      "source": [
        "model = keras.Sequential([\n",
        "        keras.layers.Embedding(encoder.vocab_size, 16),\n",
        "        keras.layers.GlobalAveragePooling1D(),\n",
        "        keras.layers.Dense(1)])"
      ],
      "execution_count": null,
      "outputs": []
    },
    {
      "cell_type": "code",
      "metadata": {
        "id": "ZqzXIeTAJoDl",
        "colab_type": "code",
        "colab": {
          "base_uri": "https://localhost:8080/",
          "height": 255
        },
        "outputId": "797c528a-dacf-4a6d-dc10-d0b479b5188c"
      },
      "source": [
        "model.summary()"
      ],
      "execution_count": null,
      "outputs": [
        {
          "output_type": "stream",
          "text": [
            "Model: \"sequential\"\n",
            "_________________________________________________________________\n",
            "Layer (type)                 Output Shape              Param #   \n",
            "=================================================================\n",
            "embedding (Embedding)        (None, None, 16)          130960    \n",
            "_________________________________________________________________\n",
            "global_average_pooling1d (Gl (None, 16)                0         \n",
            "_________________________________________________________________\n",
            "dense (Dense)                (None, 1)                 17        \n",
            "=================================================================\n",
            "Total params: 130,977\n",
            "Trainable params: 130,977\n",
            "Non-trainable params: 0\n",
            "_________________________________________________________________\n"
          ],
          "name": "stdout"
        }
      ]
    },
    {
      "cell_type": "markdown",
      "metadata": {
        "id": "oGDKwPDJ8T2_",
        "colab_type": "text"
      },
      "source": [
        "Loss function and metrics are provided to the model and using optimizer as 'Adam'"
      ]
    },
    {
      "cell_type": "code",
      "metadata": {
        "id": "lyZm5zUPJtLR",
        "colab_type": "code",
        "colab": {}
      },
      "source": [
        "model.compile(optimizer='adam',loss=tf.losses.BinaryCrossentropy(from_logits=True),metrics=['accuracy'])"
      ],
      "execution_count": null,
      "outputs": []
    },
    {
      "cell_type": "markdown",
      "metadata": {
        "id": "cbShGVZo8d4X",
        "colab_type": "text"
      },
      "source": [
        "Training the model for 10 epochs."
      ]
    },
    {
      "cell_type": "code",
      "metadata": {
        "id": "qibBRfD9KJdg",
        "colab_type": "code",
        "colab": {
          "base_uri": "https://localhost:8080/",
          "height": 357
        },
        "outputId": "75aa275d-0b8f-493e-a502-74eb93c7ff0d"
      },
      "source": [
        "history = model.fit(train_batch,epochs=10,validation_data=test_batch,validation_steps=20)"
      ],
      "execution_count": null,
      "outputs": [
        {
          "output_type": "stream",
          "text": [
            "Epoch 1/10\n",
            "782/782 [==============================] - 8s 10ms/step - loss: 0.2697 - accuracy: 0.8949 - val_loss: 0.3659 - val_accuracy: 0.8484\n",
            "Epoch 2/10\n",
            "782/782 [==============================] - 8s 10ms/step - loss: 0.2575 - accuracy: 0.8994 - val_loss: 0.3598 - val_accuracy: 0.8641\n",
            "Epoch 3/10\n",
            "782/782 [==============================] - 8s 10ms/step - loss: 0.2461 - accuracy: 0.9054 - val_loss: 0.3610 - val_accuracy: 0.8500\n",
            "Epoch 4/10\n",
            "782/782 [==============================] - 8s 10ms/step - loss: 0.2362 - accuracy: 0.9082 - val_loss: 0.3531 - val_accuracy: 0.8641\n",
            "Epoch 5/10\n",
            "782/782 [==============================] - 8s 11ms/step - loss: 0.2263 - accuracy: 0.9130 - val_loss: 0.3516 - val_accuracy: 0.8672\n",
            "Epoch 6/10\n",
            "782/782 [==============================] - 8s 10ms/step - loss: 0.2189 - accuracy: 0.9165 - val_loss: 0.3514 - val_accuracy: 0.8703\n",
            "Epoch 7/10\n",
            "782/782 [==============================] - 8s 10ms/step - loss: 0.2107 - accuracy: 0.9191 - val_loss: 0.3532 - val_accuracy: 0.8703\n",
            "Epoch 8/10\n",
            "782/782 [==============================] - 8s 10ms/step - loss: 0.2045 - accuracy: 0.9221 - val_loss: 0.3549 - val_accuracy: 0.8687\n",
            "Epoch 9/10\n",
            "782/782 [==============================] - 8s 11ms/step - loss: 0.1959 - accuracy: 0.9255 - val_loss: 0.3490 - val_accuracy: 0.8687\n",
            "Epoch 10/10\n",
            "782/782 [==============================] - 8s 10ms/step - loss: 0.1901 - accuracy: 0.9273 - val_loss: 0.3496 - val_accuracy: 0.8734\n"
          ],
          "name": "stdout"
        }
      ]
    },
    {
      "cell_type": "markdown",
      "metadata": {
        "id": "fUUIxdb58ivC",
        "colab_type": "text"
      },
      "source": [
        "Testing the model with test data and the loss and accuracy for test data are around 0.30 and 87% respectively."
      ]
    },
    {
      "cell_type": "code",
      "metadata": {
        "id": "LnMlvdraKZYa",
        "colab_type": "code",
        "colab": {
          "base_uri": "https://localhost:8080/",
          "height": 68
        },
        "outputId": "7941873c-5ef6-41aa-c3a6-a2007bbd7df7"
      },
      "source": [
        "loss,accuracy = model.evaluate(test_batch)\n",
        "print(\"Loss : \",loss)\n",
        "print(\"Accuracy : \",accuracy)"
      ],
      "execution_count": null,
      "outputs": [
        {
          "output_type": "stream",
          "text": [
            "782/782 [==============================] - 4s 5ms/step - loss: 0.3090 - accuracy: 0.8757\n",
            "Loss :  0.3089921176433563\n",
            "Accuracy :  0.8757200241088867\n"
          ],
          "name": "stdout"
        }
      ]
    },
    {
      "cell_type": "markdown",
      "metadata": {
        "id": "WvoSLR-v8u6t",
        "colab_type": "text"
      },
      "source": [
        "Here, we try to plot the accuracy and loss for train and test data in a graph which we got for 10 epochs."
      ]
    },
    {
      "cell_type": "code",
      "metadata": {
        "id": "K3DaVIm6Kxdi",
        "colab_type": "code",
        "colab": {
          "base_uri": "https://localhost:8080/",
          "height": 295
        },
        "outputId": "9e57bd9a-4d4f-4c3f-bdcb-cb93e2db7c38"
      },
      "source": [
        "import matplotlib.pyplot as plt\n",
        "\n",
        "history_dict = history.history\n",
        "acc = history_dict['accuracy']\n",
        "val_acc = history_dict['val_accuracy']\n",
        "loss = history_dict['loss']\n",
        "val_loss = history_dict['val_loss']\n",
        "\n",
        "epochs = range(1, len(acc) + 1)\n",
        "\n",
        "# \"bo\" is for \"blue dot\"\n",
        "plt.plot(epochs, loss, 'bo', label='Training loss')\n",
        "# b is for \"solid blue line\"\n",
        "plt.plot(epochs, val_loss, 'b', label='Validation loss')\n",
        "plt.title('Training and validation loss')\n",
        "plt.xlabel('Epochs')\n",
        "plt.ylabel('Loss')\n",
        "plt.legend()\n",
        "\n",
        "plt.show()"
      ],
      "execution_count": null,
      "outputs": [
        {
          "output_type": "display_data",
          "data": {
            "image/png": "[encoded data removed]",
            "text/plain": [
              "<Figure size 432x288 with 1 Axes>"
            ]
          },
          "metadata": {
            "tags": [],
            "needs_background": "light"
          }
        }
      ]
    },
    {
      "cell_type": "code",
      "metadata": {
        "id": "L7-h6RyiK2sY",
        "colab_type": "code",
        "colab": {
          "base_uri": "https://localhost:8080/",
          "height": 295
        },
        "outputId": "a04c7474-377b-4249-fff7-ef28df5db672"
      },
      "source": [
        "plt.clf()   # clear figure\n",
        "\n",
        "plt.plot(epochs, acc, 'bo', label='Training acc')\n",
        "plt.plot(epochs, val_acc, 'b', label='Validation acc')\n",
        "plt.title('Training and validation accuracy')\n",
        "plt.xlabel('Epochs')\n",
        "plt.ylabel('Accuracy')\n",
        "plt.legend(loc='lower right')\n",
        "\n",
        "plt.show()"
      ],
      "execution_count": null,
      "outputs": [
        {
          "output_type": "display_data",
          "data": {
            "image/png": "[encoded data removed]",
            "text/plain": [
              "<Figure size 432x288 with 1 Axes>"
            ]
          },
          "metadata": {
            "tags": [],
            "needs_background": "light"
          }
        }
      ]
    },
    {
      "cell_type": "code",
      "metadata": {
        "id": "NvdVAY89L__O",
        "colab_type": "code",
        "colab": {}
      },
      "source": [
        ""
      ],
      "execution_count": null,
      "outputs": []
    }
  ]
}